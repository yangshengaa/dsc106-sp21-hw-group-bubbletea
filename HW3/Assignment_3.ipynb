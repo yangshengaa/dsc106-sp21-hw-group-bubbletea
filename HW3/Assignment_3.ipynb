{
 "metadata": {
  "language_info": {
   "codemirror_mode": {
    "name": "ipython",
    "version": 3
   },
   "file_extension": ".py",
   "mimetype": "text/x-python",
   "name": "python",
   "nbconvert_exporter": "python",
   "pygments_lexer": "ipython3",
   "version": "3.8.3"
  },
  "orig_nbformat": 2,
  "kernelspec": {
   "name": "python383jvsc74a57bd0a3a4fda2a2ac94392c687944810a85e8d896104ecb144da80bc5c16c3eac66d9",
   "display_name": "Python 3.8.3 64-bit ('base': conda)"
  }
 },
 "nbformat": 4,
 "nbformat_minor": 2,
 "cells": [
  {
   "source": [
    "# Assignment 3 \n",
    "Author: Sheng Yang "
   ],
   "cell_type": "markdown",
   "metadata": {}
  },
  {
   "cell_type": "code",
   "execution_count": 1,
   "metadata": {},
   "outputs": [],
   "source": [
    "# import packages \n",
    "import pandas as pd \n",
    "import altair as alt "
   ]
  },
  {
   "cell_type": "code",
   "execution_count": 2,
   "metadata": {},
   "outputs": [
    {
     "output_type": "execute_result",
     "data": {
      "text/plain": [
       "   month  year  count\n",
       "0      0  1969   1687\n",
       "1      1  1969   1508\n",
       "2      2  1969   1507\n",
       "3      3  1969   1385\n",
       "4      4  1969   1632"
      ],
      "text/html": "<div>\n<style scoped>\n    .dataframe tbody tr th:only-of-type {\n        vertical-align: middle;\n    }\n\n    .dataframe tbody tr th {\n        vertical-align: top;\n    }\n\n    .dataframe thead th {\n        text-align: right;\n    }\n</style>\n<table border=\"1\" class=\"dataframe\">\n  <thead>\n    <tr style=\"text-align: right;\">\n      <th></th>\n      <th>month</th>\n      <th>year</th>\n      <th>count</th>\n    </tr>\n  </thead>\n  <tbody>\n    <tr>\n      <th>0</th>\n      <td>0</td>\n      <td>1969</td>\n      <td>1687</td>\n    </tr>\n    <tr>\n      <th>1</th>\n      <td>1</td>\n      <td>1969</td>\n      <td>1508</td>\n    </tr>\n    <tr>\n      <th>2</th>\n      <td>2</td>\n      <td>1969</td>\n      <td>1507</td>\n    </tr>\n    <tr>\n      <th>3</th>\n      <td>3</td>\n      <td>1969</td>\n      <td>1385</td>\n    </tr>\n    <tr>\n      <th>4</th>\n      <td>4</td>\n      <td>1969</td>\n      <td>1632</td>\n    </tr>\n  </tbody>\n</table>\n</div>"
     },
     "metadata": {},
     "execution_count": 2
    }
   ],
   "source": [
    "# load data \n",
    "fatality = pd.read_csv('ukDriverFatalities.csv')\n",
    "fatality.head()"
   ]
  },
  {
   "source": [
    "## Q1. Heatmap "
   ],
   "cell_type": "markdown",
   "metadata": {}
  },
  {
   "cell_type": "code",
   "execution_count": 3,
   "metadata": {},
   "outputs": [
    {
     "output_type": "execute_result",
     "data": {
      "text/html": "\n<div id=\"altair-viz-ff814fe421cc48c28c1b6a904d6f54bb\"></div>\n<script type=\"text/javascript\">\n  (function(spec, embedOpt){\n    let outputDiv = document.currentScript.previousElementSibling;\n    if (outputDiv.id !== \"altair-viz-ff814fe421cc48c28c1b6a904d6f54bb\") {\n      outputDiv = document.getElementById(\"altair-viz-ff814fe421cc48c28c1b6a904d6f54bb\");\n    }\n    const paths = {\n      \"vega\": \"https://cdn.jsdelivr.net/npm//vega@5?noext\",\n      \"vega-lib\": \"https://cdn.jsdelivr.net/npm//vega-lib?noext\",\n      \"vega-lite\": \"https://cdn.jsdelivr.net/npm//vega-lite@4.8.1?noext\",\n      \"vega-embed\": \"https://cdn.jsdelivr.net/npm//vega-embed@6?noext\",\n    };\n\n    function loadScript(lib) {\n      return new Promise(function(resolve, reject) {\n        var s = document.createElement('script');\n        s.src = paths[lib];\n        s.async = true;\n        s.onload = () => resolve(paths[lib]);\n        s.onerror = () => reject(`Error loading script: ${paths[lib]}`);\n        document.getElementsByTagName(\"head\")[0].appendChild(s);\n      });\n    }\n\n    function showError(err) {\n      outputDiv.innerHTML = `<div class=\"error\" style=\"color:red;\">${err}</div>`;\n      throw err;\n    }\n\n    function displayChart(vegaEmbed) {\n      vegaEmbed(outputDiv, spec, embedOpt)\n        .catch(err => showError(`Javascript Error: ${err.message}<br>This usually means there's a typo in your chart specification. See the javascript console for the full traceback.`));\n    }\n\n    if(typeof define === \"function\" && define.amd) {\n      requirejs.config({paths});\n      require([\"vega-embed\"], displayChart, err => showError(`Error loading script: ${err.message}`));\n    } else if (typeof vegaEmbed === \"function\") {\n      displayChart(vegaEmbed);\n    } else {\n      loadScript(\"vega\")\n        .then(() => loadScript(\"vega-lite\"))\n        .then(() => loadScript(\"vega-embed\"))\n        .catch(showError)\n        .then(() => displayChart(vegaEmbed));\n    }\n  })({\"config\": {\"view\": {\"continuousWidth\": 400, \"continuousHeight\": 300}}, \"data\": {\"name\": \"data-daa73f174dfc823d8dc7e5cf8229c01f\"}, \"mark\": \"rect\", \"encoding\": {\"color\": {\"type\": \"quantitative\", \"field\": \"count\"}, \"tooltip\": [{\"type\": \"quantitative\", \"field\": \"year\"}, {\"type\": \"nominal\", \"field\": \"month\"}, {\"type\": \"quantitative\", \"field\": \"count\"}], \"x\": {\"type\": \"ordinal\", \"field\": \"year\"}, \"y\": {\"type\": \"ordinal\", \"field\": \"month\", \"sort\": [\"Jan\", \"Feb\", \"Mar\", \"Apr\", \"May\", \"Jun\", \"Jul\", \"Aug\", \"Sept\", \"Oct\", \"Nov\", \"Dec\"]}}, \"title\": \"UK Driver Fatality by Year and Month (1969 - 1984)\", \"$schema\": \"https://vega.github.io/schema/vega-lite/v4.8.1.json\", \"datasets\": {\"data-daa73f174dfc823d8dc7e5cf8229c01f\": [{\"month\": \"Jan\", \"year\": 1969, \"count\": 1687}, {\"month\": \"Feb\", \"year\": 1969, \"count\": 1508}, {\"month\": \"Mar\", \"year\": 1969, \"count\": 1507}, {\"month\": \"Apr\", \"year\": 1969, \"count\": 1385}, {\"month\": \"May\", \"year\": 1969, \"count\": 1632}, {\"month\": \"Jun\", \"year\": 1969, \"count\": 1511}, {\"month\": \"Jul\", \"year\": 1969, \"count\": 1559}, {\"month\": \"Aug\", \"year\": 1969, \"count\": 1630}, {\"month\": \"Sept\", \"year\": 1969, \"count\": 1579}, {\"month\": \"Oct\", \"year\": 1969, \"count\": 1653}, {\"month\": \"Nov\", \"year\": 1969, \"count\": 2152}, {\"month\": \"Dec\", \"year\": 1969, \"count\": 2148}, {\"month\": \"Jan\", \"year\": 1970, \"count\": 1752}, {\"month\": \"Feb\", \"year\": 1970, \"count\": 1765}, {\"month\": \"Mar\", \"year\": 1970, \"count\": 1717}, {\"month\": \"Apr\", \"year\": 1970, \"count\": 1558}, {\"month\": \"May\", \"year\": 1970, \"count\": 1575}, {\"month\": \"Jun\", \"year\": 1970, \"count\": 1520}, {\"month\": \"Jul\", \"year\": 1970, \"count\": 1805}, {\"month\": \"Aug\", \"year\": 1970, \"count\": 1800}, {\"month\": \"Sept\", \"year\": 1970, \"count\": 1719}, {\"month\": \"Oct\", \"year\": 1970, \"count\": 2008}, {\"month\": \"Nov\", \"year\": 1970, \"count\": 2242}, {\"month\": \"Dec\", \"year\": 1970, \"count\": 2478}, {\"month\": \"Jan\", \"year\": 1971, \"count\": 2030}, {\"month\": \"Feb\", \"year\": 1971, \"count\": 1655}, {\"month\": \"Mar\", \"year\": 1971, \"count\": 1693}, {\"month\": \"Apr\", \"year\": 1971, \"count\": 1623}, {\"month\": \"May\", \"year\": 1971, \"count\": 1805}, {\"month\": \"Jun\", \"year\": 1971, \"count\": 1746}, {\"month\": \"Jul\", \"year\": 1971, \"count\": 1795}, {\"month\": \"Aug\", \"year\": 1971, \"count\": 1926}, {\"month\": \"Sept\", \"year\": 1971, \"count\": 1619}, {\"month\": \"Oct\", \"year\": 1971, \"count\": 1992}, {\"month\": \"Nov\", \"year\": 1971, \"count\": 2233}, {\"month\": \"Dec\", \"year\": 1971, \"count\": 2192}, {\"month\": \"Jan\", \"year\": 1972, \"count\": 2080}, {\"month\": \"Feb\", \"year\": 1972, \"count\": 1768}, {\"month\": \"Mar\", \"year\": 1972, \"count\": 1835}, {\"month\": \"Apr\", \"year\": 1972, \"count\": 1569}, {\"month\": \"May\", \"year\": 1972, \"count\": 1976}, {\"month\": \"Jun\", \"year\": 1972, \"count\": 1853}, {\"month\": \"Jul\", \"year\": 1972, \"count\": 1965}, {\"month\": \"Aug\", \"year\": 1972, \"count\": 1689}, {\"month\": \"Sept\", \"year\": 1972, \"count\": 1778}, {\"month\": \"Oct\", \"year\": 1972, \"count\": 1976}, {\"month\": \"Nov\", \"year\": 1972, \"count\": 2397}, {\"month\": \"Dec\", \"year\": 1972, \"count\": 2654}, {\"month\": \"Jan\", \"year\": 1973, \"count\": 2097}, {\"month\": \"Feb\", \"year\": 1973, \"count\": 1963}, {\"month\": \"Mar\", \"year\": 1973, \"count\": 1677}, {\"month\": \"Apr\", \"year\": 1973, \"count\": 1941}, {\"month\": \"May\", \"year\": 1973, \"count\": 2003}, {\"month\": \"Jun\", \"year\": 1973, \"count\": 1813}, {\"month\": \"Jul\", \"year\": 1973, \"count\": 2012}, {\"month\": \"Aug\", \"year\": 1973, \"count\": 1912}, {\"month\": \"Sept\", \"year\": 1973, \"count\": 2084}, {\"month\": \"Oct\", \"year\": 1973, \"count\": 2080}, {\"month\": \"Nov\", \"year\": 1973, \"count\": 2118}, {\"month\": \"Dec\", \"year\": 1973, \"count\": 2150}, {\"month\": \"Jan\", \"year\": 1974, \"count\": 1608}, {\"month\": \"Feb\", \"year\": 1974, \"count\": 1503}, {\"month\": \"Mar\", \"year\": 1974, \"count\": 1548}, {\"month\": \"Apr\", \"year\": 1974, \"count\": 1382}, {\"month\": \"May\", \"year\": 1974, \"count\": 1731}, {\"month\": \"Jun\", \"year\": 1974, \"count\": 1798}, {\"month\": \"Jul\", \"year\": 1974, \"count\": 1779}, {\"month\": \"Aug\", \"year\": 1974, \"count\": 1887}, {\"month\": \"Sept\", \"year\": 1974, \"count\": 2004}, {\"month\": \"Oct\", \"year\": 1974, \"count\": 2077}, {\"month\": \"Nov\", \"year\": 1974, \"count\": 2092}, {\"month\": \"Dec\", \"year\": 1974, \"count\": 2051}, {\"month\": \"Jan\", \"year\": 1975, \"count\": 1577}, {\"month\": \"Feb\", \"year\": 1975, \"count\": 1356}, {\"month\": \"Mar\", \"year\": 1975, \"count\": 1652}, {\"month\": \"Apr\", \"year\": 1975, \"count\": 1382}, {\"month\": \"May\", \"year\": 1975, \"count\": 1519}, {\"month\": \"Jun\", \"year\": 1975, \"count\": 1421}, {\"month\": \"Jul\", \"year\": 1975, \"count\": 1442}, {\"month\": \"Aug\", \"year\": 1975, \"count\": 1543}, {\"month\": \"Sept\", \"year\": 1975, \"count\": 1656}, {\"month\": \"Oct\", \"year\": 1975, \"count\": 1561}, {\"month\": \"Nov\", \"year\": 1975, \"count\": 1905}, {\"month\": \"Dec\", \"year\": 1975, \"count\": 2199}, {\"month\": \"Jan\", \"year\": 1976, \"count\": 1473}, {\"month\": \"Feb\", \"year\": 1976, \"count\": 1655}, {\"month\": \"Mar\", \"year\": 1976, \"count\": 1407}, {\"month\": \"Apr\", \"year\": 1976, \"count\": 1395}, {\"month\": \"May\", \"year\": 1976, \"count\": 1530}, {\"month\": \"Jun\", \"year\": 1976, \"count\": 1309}, {\"month\": \"Jul\", \"year\": 1976, \"count\": 1526}, {\"month\": \"Aug\", \"year\": 1976, \"count\": 1327}, {\"month\": \"Sept\", \"year\": 1976, \"count\": 1627}, {\"month\": \"Oct\", \"year\": 1976, \"count\": 1748}, {\"month\": \"Nov\", \"year\": 1976, \"count\": 1958}, {\"month\": \"Dec\", \"year\": 1976, \"count\": 2274}, {\"month\": \"Jan\", \"year\": 1977, \"count\": 1648}, {\"month\": \"Feb\", \"year\": 1977, \"count\": 1401}, {\"month\": \"Mar\", \"year\": 1977, \"count\": 1411}, {\"month\": \"Apr\", \"year\": 1977, \"count\": 1403}, {\"month\": \"May\", \"year\": 1977, \"count\": 1394}, {\"month\": \"Jun\", \"year\": 1977, \"count\": 1520}, {\"month\": \"Jul\", \"year\": 1977, \"count\": 1528}, {\"month\": \"Aug\", \"year\": 1977, \"count\": 1643}, {\"month\": \"Sept\", \"year\": 1977, \"count\": 1515}, {\"month\": \"Oct\", \"year\": 1977, \"count\": 1685}, {\"month\": \"Nov\", \"year\": 1977, \"count\": 2000}, {\"month\": \"Dec\", \"year\": 1977, \"count\": 2215}, {\"month\": \"Jan\", \"year\": 1978, \"count\": 1956}, {\"month\": \"Feb\", \"year\": 1978, \"count\": 1462}, {\"month\": \"Mar\", \"year\": 1978, \"count\": 1563}, {\"month\": \"Apr\", \"year\": 1978, \"count\": 1459}, {\"month\": \"May\", \"year\": 1978, \"count\": 1446}, {\"month\": \"Jun\", \"year\": 1978, \"count\": 1622}, {\"month\": \"Jul\", \"year\": 1978, \"count\": 1657}, {\"month\": \"Aug\", \"year\": 1978, \"count\": 1638}, {\"month\": \"Sept\", \"year\": 1978, \"count\": 1643}, {\"month\": \"Oct\", \"year\": 1978, \"count\": 1683}, {\"month\": \"Nov\", \"year\": 1978, \"count\": 2050}, {\"month\": \"Dec\", \"year\": 1978, \"count\": 2262}, {\"month\": \"Jan\", \"year\": 1979, \"count\": 1813}, {\"month\": \"Feb\", \"year\": 1979, \"count\": 1445}, {\"month\": \"Mar\", \"year\": 1979, \"count\": 1762}, {\"month\": \"Apr\", \"year\": 1979, \"count\": 1461}, {\"month\": \"May\", \"year\": 1979, \"count\": 1556}, {\"month\": \"Jun\", \"year\": 1979, \"count\": 1431}, {\"month\": \"Jul\", \"year\": 1979, \"count\": 1427}, {\"month\": \"Aug\", \"year\": 1979, \"count\": 1554}, {\"month\": \"Sept\", \"year\": 1979, \"count\": 1645}, {\"month\": \"Oct\", \"year\": 1979, \"count\": 1653}, {\"month\": \"Nov\", \"year\": 1979, \"count\": 2016}, {\"month\": \"Dec\", \"year\": 1979, \"count\": 2207}, {\"month\": \"Jan\", \"year\": 1980, \"count\": 1665}, {\"month\": \"Feb\", \"year\": 1980, \"count\": 1361}, {\"month\": \"Mar\", \"year\": 1980, \"count\": 1506}, {\"month\": \"Apr\", \"year\": 1980, \"count\": 1360}, {\"month\": \"May\", \"year\": 1980, \"count\": 1453}, {\"month\": \"Jun\", \"year\": 1980, \"count\": 1522}, {\"month\": \"Jul\", \"year\": 1980, \"count\": 1460}, {\"month\": \"Aug\", \"year\": 1980, \"count\": 1552}, {\"month\": \"Sept\", \"year\": 1980, \"count\": 1548}, {\"month\": \"Oct\", \"year\": 1980, \"count\": 1827}, {\"month\": \"Nov\", \"year\": 1980, \"count\": 1737}, {\"month\": \"Dec\", \"year\": 1980, \"count\": 1941}, {\"month\": \"Jan\", \"year\": 1981, \"count\": 1474}, {\"month\": \"Feb\", \"year\": 1981, \"count\": 1458}, {\"month\": \"Mar\", \"year\": 1981, \"count\": 1542}, {\"month\": \"Apr\", \"year\": 1981, \"count\": 1404}, {\"month\": \"May\", \"year\": 1981, \"count\": 1522}, {\"month\": \"Jun\", \"year\": 1981, \"count\": 1385}, {\"month\": \"Jul\", \"year\": 1981, \"count\": 1641}, {\"month\": \"Aug\", \"year\": 1981, \"count\": 1510}, {\"month\": \"Sept\", \"year\": 1981, \"count\": 1681}, {\"month\": \"Oct\", \"year\": 1981, \"count\": 1938}, {\"month\": \"Nov\", \"year\": 1981, \"count\": 1868}, {\"month\": \"Dec\", \"year\": 1981, \"count\": 1726}, {\"month\": \"Jan\", \"year\": 1982, \"count\": 1456}, {\"month\": \"Feb\", \"year\": 1982, \"count\": 1445}, {\"month\": \"Mar\", \"year\": 1982, \"count\": 1456}, {\"month\": \"Apr\", \"year\": 1982, \"count\": 1365}, {\"month\": \"May\", \"year\": 1982, \"count\": 1487}, {\"month\": \"Jun\", \"year\": 1982, \"count\": 1558}, {\"month\": \"Jul\", \"year\": 1982, \"count\": 1488}, {\"month\": \"Aug\", \"year\": 1982, \"count\": 1684}, {\"month\": \"Sept\", \"year\": 1982, \"count\": 1594}, {\"month\": \"Oct\", \"year\": 1982, \"count\": 1850}, {\"month\": \"Nov\", \"year\": 1982, \"count\": 1998}, {\"month\": \"Dec\", \"year\": 1982, \"count\": 2079}, {\"month\": \"Jan\", \"year\": 1983, \"count\": 1494}, {\"month\": \"Feb\", \"year\": 1983, \"count\": 1057}, {\"month\": \"Mar\", \"year\": 1983, \"count\": 1218}, {\"month\": \"Apr\", \"year\": 1983, \"count\": 1168}, {\"month\": \"May\", \"year\": 1983, \"count\": 1236}, {\"month\": \"Jun\", \"year\": 1983, \"count\": 1076}, {\"month\": \"Jul\", \"year\": 1983, \"count\": 1174}, {\"month\": \"Aug\", \"year\": 1983, \"count\": 1139}, {\"month\": \"Sept\", \"year\": 1983, \"count\": 1427}, {\"month\": \"Oct\", \"year\": 1983, \"count\": 1487}, {\"month\": \"Nov\", \"year\": 1983, \"count\": 1483}, {\"month\": \"Dec\", \"year\": 1983, \"count\": 1513}, {\"month\": \"Jan\", \"year\": 1984, \"count\": 1357}, {\"month\": \"Feb\", \"year\": 1984, \"count\": 1165}, {\"month\": \"Mar\", \"year\": 1984, \"count\": 1282}, {\"month\": \"Apr\", \"year\": 1984, \"count\": 1110}, {\"month\": \"May\", \"year\": 1984, \"count\": 1297}, {\"month\": \"Jun\", \"year\": 1984, \"count\": 1185}, {\"month\": \"Jul\", \"year\": 1984, \"count\": 1222}, {\"month\": \"Aug\", \"year\": 1984, \"count\": 1284}, {\"month\": \"Sept\", \"year\": 1984, \"count\": 1444}, {\"month\": \"Oct\", \"year\": 1984, \"count\": 1575}, {\"month\": \"Nov\", \"year\": 1984, \"count\": 1737}, {\"month\": \"Dec\", \"year\": 1984, \"count\": 1763}]}}, {\"mode\": \"vega-lite\"});\n</script>",
      "text/plain": [
       "alt.Chart(...)"
      ]
     },
     "metadata": {},
     "execution_count": 3
    }
   ],
   "source": [
    "# convert numbers the correct month (1 ~ 12)\n",
    "fatality_copy = fatality.copy()\n",
    "months = ['Jan', 'Feb', 'Mar', 'Apr', 'May', 'Jun', 'Jul', 'Aug', 'Sept', 'Oct', 'Nov', 'Dec']\n",
    "month_dict = dict(zip(range(12), months))\n",
    "fatality_copy.month = fatality.month.replace(month_dict)\n",
    "\n",
    "# heatmap \n",
    "alt.Chart(fatality_copy).mark_rect().encode(\n",
    "    x='year:O', \n",
    "    y=alt.Y('month:O', sort=months), \n",
    "    color='count:Q', \n",
    "    tooltip=['year', 'month', 'count']\n",
    ").properties(\n",
    "    title='UK Driver Fatality by Year and Month (1969 - 1984)'\n",
    ")"
   ]
  },
  {
   "source": [
    "## Q2. Line Chart "
   ],
   "cell_type": "markdown",
   "metadata": {}
  },
  {
   "cell_type": "code",
   "execution_count": 4,
   "metadata": {},
   "outputs": [
    {
     "output_type": "execute_result",
     "data": {
      "text/html": "\n<div id=\"altair-viz-48f5bb6a9f9745468f5ddd807758d39e\"></div>\n<script type=\"text/javascript\">\n  (function(spec, embedOpt){\n    let outputDiv = document.currentScript.previousElementSibling;\n    if (outputDiv.id !== \"altair-viz-48f5bb6a9f9745468f5ddd807758d39e\") {\n      outputDiv = document.getElementById(\"altair-viz-48f5bb6a9f9745468f5ddd807758d39e\");\n    }\n    const paths = {\n      \"vega\": \"https://cdn.jsdelivr.net/npm//vega@5?noext\",\n      \"vega-lib\": \"https://cdn.jsdelivr.net/npm//vega-lib?noext\",\n      \"vega-lite\": \"https://cdn.jsdelivr.net/npm//vega-lite@4.8.1?noext\",\n      \"vega-embed\": \"https://cdn.jsdelivr.net/npm//vega-embed@6?noext\",\n    };\n\n    function loadScript(lib) {\n      return new Promise(function(resolve, reject) {\n        var s = document.createElement('script');\n        s.src = paths[lib];\n        s.async = true;\n        s.onload = () => resolve(paths[lib]);\n        s.onerror = () => reject(`Error loading script: ${paths[lib]}`);\n        document.getElementsByTagName(\"head\")[0].appendChild(s);\n      });\n    }\n\n    function showError(err) {\n      outputDiv.innerHTML = `<div class=\"error\" style=\"color:red;\">${err}</div>`;\n      throw err;\n    }\n\n    function displayChart(vegaEmbed) {\n      vegaEmbed(outputDiv, spec, embedOpt)\n        .catch(err => showError(`Javascript Error: ${err.message}<br>This usually means there's a typo in your chart specification. See the javascript console for the full traceback.`));\n    }\n\n    if(typeof define === \"function\" && define.amd) {\n      requirejs.config({paths});\n      require([\"vega-embed\"], displayChart, err => showError(`Error loading script: ${err.message}`));\n    } else if (typeof vegaEmbed === \"function\") {\n      displayChart(vegaEmbed);\n    } else {\n      loadScript(\"vega\")\n        .then(() => loadScript(\"vega-lite\"))\n        .then(() => loadScript(\"vega-embed\"))\n        .catch(showError)\n        .then(() => displayChart(vegaEmbed));\n    }\n  })({\"config\": {\"view\": {\"continuousWidth\": 400, \"continuousHeight\": 300}}, \"data\": {\"name\": \"data-eae90cd30d19b4e3984d21939666a3f3\"}, \"mark\": \"line\", \"encoding\": {\"tooltip\": [{\"type\": \"ordinal\", \"field\": \"year\"}, {\"type\": \"quantitative\", \"aggregate\": \"sum\", \"field\": \"count\", \"title\": \"fatality\"}], \"x\": {\"type\": \"ordinal\", \"axis\": {\"labelAngle\": 0}, \"field\": \"year\"}, \"y\": {\"type\": \"quantitative\", \"aggregate\": \"sum\", \"field\": \"count\", \"scale\": {\"domain\": [12000, 26000]}, \"title\": \"fatality\"}}, \"title\": \"UK Driver Death Toll by Year (1969 - 1984)\", \"width\": 500, \"$schema\": \"https://vega.github.io/schema/vega-lite/v4.8.1.json\", \"datasets\": {\"data-eae90cd30d19b4e3984d21939666a3f3\": [{\"month\": 0, \"year\": 1969, \"count\": 1687}, {\"month\": 1, \"year\": 1969, \"count\": 1508}, {\"month\": 2, \"year\": 1969, \"count\": 1507}, {\"month\": 3, \"year\": 1969, \"count\": 1385}, {\"month\": 4, \"year\": 1969, \"count\": 1632}, {\"month\": 5, \"year\": 1969, \"count\": 1511}, {\"month\": 6, \"year\": 1969, \"count\": 1559}, {\"month\": 7, \"year\": 1969, \"count\": 1630}, {\"month\": 8, \"year\": 1969, \"count\": 1579}, {\"month\": 9, \"year\": 1969, \"count\": 1653}, {\"month\": 10, \"year\": 1969, \"count\": 2152}, {\"month\": 11, \"year\": 1969, \"count\": 2148}, {\"month\": 0, \"year\": 1970, \"count\": 1752}, {\"month\": 1, \"year\": 1970, \"count\": 1765}, {\"month\": 2, \"year\": 1970, \"count\": 1717}, {\"month\": 3, \"year\": 1970, \"count\": 1558}, {\"month\": 4, \"year\": 1970, \"count\": 1575}, {\"month\": 5, \"year\": 1970, \"count\": 1520}, {\"month\": 6, \"year\": 1970, \"count\": 1805}, {\"month\": 7, \"year\": 1970, \"count\": 1800}, {\"month\": 8, \"year\": 1970, \"count\": 1719}, {\"month\": 9, \"year\": 1970, \"count\": 2008}, {\"month\": 10, \"year\": 1970, \"count\": 2242}, {\"month\": 11, \"year\": 1970, \"count\": 2478}, {\"month\": 0, \"year\": 1971, \"count\": 2030}, {\"month\": 1, \"year\": 1971, \"count\": 1655}, {\"month\": 2, \"year\": 1971, \"count\": 1693}, {\"month\": 3, \"year\": 1971, \"count\": 1623}, {\"month\": 4, \"year\": 1971, \"count\": 1805}, {\"month\": 5, \"year\": 1971, \"count\": 1746}, {\"month\": 6, \"year\": 1971, \"count\": 1795}, {\"month\": 7, \"year\": 1971, \"count\": 1926}, {\"month\": 8, \"year\": 1971, \"count\": 1619}, {\"month\": 9, \"year\": 1971, \"count\": 1992}, {\"month\": 10, \"year\": 1971, \"count\": 2233}, {\"month\": 11, \"year\": 1971, \"count\": 2192}, {\"month\": 0, \"year\": 1972, \"count\": 2080}, {\"month\": 1, \"year\": 1972, \"count\": 1768}, {\"month\": 2, \"year\": 1972, \"count\": 1835}, {\"month\": 3, \"year\": 1972, \"count\": 1569}, {\"month\": 4, \"year\": 1972, \"count\": 1976}, {\"month\": 5, \"year\": 1972, \"count\": 1853}, {\"month\": 6, \"year\": 1972, \"count\": 1965}, {\"month\": 7, \"year\": 1972, \"count\": 1689}, {\"month\": 8, \"year\": 1972, \"count\": 1778}, {\"month\": 9, \"year\": 1972, \"count\": 1976}, {\"month\": 10, \"year\": 1972, \"count\": 2397}, {\"month\": 11, \"year\": 1972, \"count\": 2654}, {\"month\": 0, \"year\": 1973, \"count\": 2097}, {\"month\": 1, \"year\": 1973, \"count\": 1963}, {\"month\": 2, \"year\": 1973, \"count\": 1677}, {\"month\": 3, \"year\": 1973, \"count\": 1941}, {\"month\": 4, \"year\": 1973, \"count\": 2003}, {\"month\": 5, \"year\": 1973, \"count\": 1813}, {\"month\": 6, \"year\": 1973, \"count\": 2012}, {\"month\": 7, \"year\": 1973, \"count\": 1912}, {\"month\": 8, \"year\": 1973, \"count\": 2084}, {\"month\": 9, \"year\": 1973, \"count\": 2080}, {\"month\": 10, \"year\": 1973, \"count\": 2118}, {\"month\": 11, \"year\": 1973, \"count\": 2150}, {\"month\": 0, \"year\": 1974, \"count\": 1608}, {\"month\": 1, \"year\": 1974, \"count\": 1503}, {\"month\": 2, \"year\": 1974, \"count\": 1548}, {\"month\": 3, \"year\": 1974, \"count\": 1382}, {\"month\": 4, \"year\": 1974, \"count\": 1731}, {\"month\": 5, \"year\": 1974, \"count\": 1798}, {\"month\": 6, \"year\": 1974, \"count\": 1779}, {\"month\": 7, \"year\": 1974, \"count\": 1887}, {\"month\": 8, \"year\": 1974, \"count\": 2004}, {\"month\": 9, \"year\": 1974, \"count\": 2077}, {\"month\": 10, \"year\": 1974, \"count\": 2092}, {\"month\": 11, \"year\": 1974, \"count\": 2051}, {\"month\": 0, \"year\": 1975, \"count\": 1577}, {\"month\": 1, \"year\": 1975, \"count\": 1356}, {\"month\": 2, \"year\": 1975, \"count\": 1652}, {\"month\": 3, \"year\": 1975, \"count\": 1382}, {\"month\": 4, \"year\": 1975, \"count\": 1519}, {\"month\": 5, \"year\": 1975, \"count\": 1421}, {\"month\": 6, \"year\": 1975, \"count\": 1442}, {\"month\": 7, \"year\": 1975, \"count\": 1543}, {\"month\": 8, \"year\": 1975, \"count\": 1656}, {\"month\": 9, \"year\": 1975, \"count\": 1561}, {\"month\": 10, \"year\": 1975, \"count\": 1905}, {\"month\": 11, \"year\": 1975, \"count\": 2199}, {\"month\": 0, \"year\": 1976, \"count\": 1473}, {\"month\": 1, \"year\": 1976, \"count\": 1655}, {\"month\": 2, \"year\": 1976, \"count\": 1407}, {\"month\": 3, \"year\": 1976, \"count\": 1395}, {\"month\": 4, \"year\": 1976, \"count\": 1530}, {\"month\": 5, \"year\": 1976, \"count\": 1309}, {\"month\": 6, \"year\": 1976, \"count\": 1526}, {\"month\": 7, \"year\": 1976, \"count\": 1327}, {\"month\": 8, \"year\": 1976, \"count\": 1627}, {\"month\": 9, \"year\": 1976, \"count\": 1748}, {\"month\": 10, \"year\": 1976, \"count\": 1958}, {\"month\": 11, \"year\": 1976, \"count\": 2274}, {\"month\": 0, \"year\": 1977, \"count\": 1648}, {\"month\": 1, \"year\": 1977, \"count\": 1401}, {\"month\": 2, \"year\": 1977, \"count\": 1411}, {\"month\": 3, \"year\": 1977, \"count\": 1403}, {\"month\": 4, \"year\": 1977, \"count\": 1394}, {\"month\": 5, \"year\": 1977, \"count\": 1520}, {\"month\": 6, \"year\": 1977, \"count\": 1528}, {\"month\": 7, \"year\": 1977, \"count\": 1643}, {\"month\": 8, \"year\": 1977, \"count\": 1515}, {\"month\": 9, \"year\": 1977, \"count\": 1685}, {\"month\": 10, \"year\": 1977, \"count\": 2000}, {\"month\": 11, \"year\": 1977, \"count\": 2215}, {\"month\": 0, \"year\": 1978, \"count\": 1956}, {\"month\": 1, \"year\": 1978, \"count\": 1462}, {\"month\": 2, \"year\": 1978, \"count\": 1563}, {\"month\": 3, \"year\": 1978, \"count\": 1459}, {\"month\": 4, \"year\": 1978, \"count\": 1446}, {\"month\": 5, \"year\": 1978, \"count\": 1622}, {\"month\": 6, \"year\": 1978, \"count\": 1657}, {\"month\": 7, \"year\": 1978, \"count\": 1638}, {\"month\": 8, \"year\": 1978, \"count\": 1643}, {\"month\": 9, \"year\": 1978, \"count\": 1683}, {\"month\": 10, \"year\": 1978, \"count\": 2050}, {\"month\": 11, \"year\": 1978, \"count\": 2262}, {\"month\": 0, \"year\": 1979, \"count\": 1813}, {\"month\": 1, \"year\": 1979, \"count\": 1445}, {\"month\": 2, \"year\": 1979, \"count\": 1762}, {\"month\": 3, \"year\": 1979, \"count\": 1461}, {\"month\": 4, \"year\": 1979, \"count\": 1556}, {\"month\": 5, \"year\": 1979, \"count\": 1431}, {\"month\": 6, \"year\": 1979, \"count\": 1427}, {\"month\": 7, \"year\": 1979, \"count\": 1554}, {\"month\": 8, \"year\": 1979, \"count\": 1645}, {\"month\": 9, \"year\": 1979, \"count\": 1653}, {\"month\": 10, \"year\": 1979, \"count\": 2016}, {\"month\": 11, \"year\": 1979, \"count\": 2207}, {\"month\": 0, \"year\": 1980, \"count\": 1665}, {\"month\": 1, \"year\": 1980, \"count\": 1361}, {\"month\": 2, \"year\": 1980, \"count\": 1506}, {\"month\": 3, \"year\": 1980, \"count\": 1360}, {\"month\": 4, \"year\": 1980, \"count\": 1453}, {\"month\": 5, \"year\": 1980, \"count\": 1522}, {\"month\": 6, \"year\": 1980, \"count\": 1460}, {\"month\": 7, \"year\": 1980, \"count\": 1552}, {\"month\": 8, \"year\": 1980, \"count\": 1548}, {\"month\": 9, \"year\": 1980, \"count\": 1827}, {\"month\": 10, \"year\": 1980, \"count\": 1737}, {\"month\": 11, \"year\": 1980, \"count\": 1941}, {\"month\": 0, \"year\": 1981, \"count\": 1474}, {\"month\": 1, \"year\": 1981, \"count\": 1458}, {\"month\": 2, \"year\": 1981, \"count\": 1542}, {\"month\": 3, \"year\": 1981, \"count\": 1404}, {\"month\": 4, \"year\": 1981, \"count\": 1522}, {\"month\": 5, \"year\": 1981, \"count\": 1385}, {\"month\": 6, \"year\": 1981, \"count\": 1641}, {\"month\": 7, \"year\": 1981, \"count\": 1510}, {\"month\": 8, \"year\": 1981, \"count\": 1681}, {\"month\": 9, \"year\": 1981, \"count\": 1938}, {\"month\": 10, \"year\": 1981, \"count\": 1868}, {\"month\": 11, \"year\": 1981, \"count\": 1726}, {\"month\": 0, \"year\": 1982, \"count\": 1456}, {\"month\": 1, \"year\": 1982, \"count\": 1445}, {\"month\": 2, \"year\": 1982, \"count\": 1456}, {\"month\": 3, \"year\": 1982, \"count\": 1365}, {\"month\": 4, \"year\": 1982, \"count\": 1487}, {\"month\": 5, \"year\": 1982, \"count\": 1558}, {\"month\": 6, \"year\": 1982, \"count\": 1488}, {\"month\": 7, \"year\": 1982, \"count\": 1684}, {\"month\": 8, \"year\": 1982, \"count\": 1594}, {\"month\": 9, \"year\": 1982, \"count\": 1850}, {\"month\": 10, \"year\": 1982, \"count\": 1998}, {\"month\": 11, \"year\": 1982, \"count\": 2079}, {\"month\": 0, \"year\": 1983, \"count\": 1494}, {\"month\": 1, \"year\": 1983, \"count\": 1057}, {\"month\": 2, \"year\": 1983, \"count\": 1218}, {\"month\": 3, \"year\": 1983, \"count\": 1168}, {\"month\": 4, \"year\": 1983, \"count\": 1236}, {\"month\": 5, \"year\": 1983, \"count\": 1076}, {\"month\": 6, \"year\": 1983, \"count\": 1174}, {\"month\": 7, \"year\": 1983, \"count\": 1139}, {\"month\": 8, \"year\": 1983, \"count\": 1427}, {\"month\": 9, \"year\": 1983, \"count\": 1487}, {\"month\": 10, \"year\": 1983, \"count\": 1483}, {\"month\": 11, \"year\": 1983, \"count\": 1513}, {\"month\": 0, \"year\": 1984, \"count\": 1357}, {\"month\": 1, \"year\": 1984, \"count\": 1165}, {\"month\": 2, \"year\": 1984, \"count\": 1282}, {\"month\": 3, \"year\": 1984, \"count\": 1110}, {\"month\": 4, \"year\": 1984, \"count\": 1297}, {\"month\": 5, \"year\": 1984, \"count\": 1185}, {\"month\": 6, \"year\": 1984, \"count\": 1222}, {\"month\": 7, \"year\": 1984, \"count\": 1284}, {\"month\": 8, \"year\": 1984, \"count\": 1444}, {\"month\": 9, \"year\": 1984, \"count\": 1575}, {\"month\": 10, \"year\": 1984, \"count\": 1737}, {\"month\": 11, \"year\": 1984, \"count\": 1763}]}}, {\"mode\": \"vega-lite\"});\n</script>",
      "text/plain": [
       "alt.Chart(...)"
      ]
     },
     "metadata": {},
     "execution_count": 4
    }
   ],
   "source": [
    "# line chart \n",
    "# manually adjust domain to make line chart a 45 degree tilt \n",
    "alt.Chart(fatality).mark_line().encode(\n",
    "    x=alt.X('year:O', axis=alt.Axis(labelAngle=0)),\n",
    "    y=alt.Y('sum(count)', \n",
    "            title='fatality', \n",
    "            scale=alt.Scale(domain=(12000, 26000))),\n",
    "    tooltip=['year:O', alt.Tooltip('sum(count)', title='fatality')]\n",
    ").properties(\n",
    "    title='UK Driver Death Toll by Year (1969 - 1984)',\n",
    "    width=500\n",
    ")"
   ]
  }
 ]
}