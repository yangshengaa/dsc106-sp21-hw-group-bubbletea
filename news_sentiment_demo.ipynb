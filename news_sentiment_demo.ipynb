{
 "metadata": {
  "language_info": {
   "codemirror_mode": {
    "name": "ipython",
    "version": 3
   },
   "file_extension": ".py",
   "mimetype": "text/x-python",
   "name": "python",
   "nbconvert_exporter": "python",
   "pygments_lexer": "ipython3",
   "version": "3.8.3"
  },
  "orig_nbformat": 2,
  "kernelspec": {
   "name": "python383jvsc74a57bd0a3a4fda2a2ac94392c687944810a85e8d896104ecb144da80bc5c16c3eac66d9",
   "display_name": "Python 3.8.3 64-bit ('base': conda)"
  }
 },
 "nbformat": 4,
 "nbformat_minor": 2,
 "cells": [
  {
   "source": [
    "# News Sentiment Demo\n",
    "Also scratch space "
   ],
   "cell_type": "markdown",
   "metadata": {}
  },
  {
   "cell_type": "code",
   "execution_count": 1,
   "metadata": {},
   "outputs": [],
   "source": [
    "%load_ext autoreload\n",
    "%autoreload 2"
   ]
  },
  {
   "cell_type": "code",
   "execution_count": 2,
   "metadata": {},
   "outputs": [],
   "source": [
    "import os \n",
    "import numpy as np \n",
    "import pandas as pd \n",
    "import re \n",
    "\n",
    "from util import *"
   ]
  },
  {
   "source": [
    "## EDA "
   ],
   "cell_type": "markdown",
   "metadata": {}
  },
  {
   "cell_type": "code",
   "execution_count": 3,
   "metadata": {},
   "outputs": [
    {
     "output_type": "execute_result",
     "data": {
      "text/plain": [
       "   year                                           sentence\n",
       "0  1920  ROME, Jan. 2.--It is of the utmost importance ...\n",
       "1  1920   FIND GIRL AND DOG DEAD.; Candy Near Bodies in...\n",
       "2  1920  There was opened yesterday in the Art Departme...\n",
       "3  1920                  Free Champagne at the Vanderbilt.\n",
       "4  1920                        20 Seized at Portland, Ore."
      ],
      "text/html": "<div>\n<style scoped>\n    .dataframe tbody tr th:only-of-type {\n        vertical-align: middle;\n    }\n\n    .dataframe tbody tr th {\n        vertical-align: top;\n    }\n\n    .dataframe thead th {\n        text-align: right;\n    }\n</style>\n<table border=\"1\" class=\"dataframe\">\n  <thead>\n    <tr style=\"text-align: right;\">\n      <th></th>\n      <th>year</th>\n      <th>sentence</th>\n    </tr>\n  </thead>\n  <tbody>\n    <tr>\n      <th>0</th>\n      <td>1920</td>\n      <td>ROME, Jan. 2.--It is of the utmost importance ...</td>\n    </tr>\n    <tr>\n      <th>1</th>\n      <td>1920</td>\n      <td>FIND GIRL AND DOG DEAD.; Candy Near Bodies in...</td>\n    </tr>\n    <tr>\n      <th>2</th>\n      <td>1920</td>\n      <td>There was opened yesterday in the Art Departme...</td>\n    </tr>\n    <tr>\n      <th>3</th>\n      <td>1920</td>\n      <td>Free Champagne at the Vanderbilt.</td>\n    </tr>\n    <tr>\n      <th>4</th>\n      <td>1920</td>\n      <td>20 Seized at Portland, Ore.</td>\n    </tr>\n  </tbody>\n</table>\n</div>"
     },
     "metadata": {},
     "execution_count": 3
    }
   ],
   "source": [
    "sample_path = os.path.join('data/archive', 'df_1920.csv')\n",
    "sample_data = pd.read_csv(sample_path, index_col=0)\n",
    "sample_data.head()"
   ]
  },
  {
   "cell_type": "code",
   "execution_count": 14,
   "metadata": {},
   "outputs": [
    {
     "output_type": "execute_result",
     "data": {
      "text/plain": [
       "new             20787\n",
       "will            19520\n",
       "yesterday       12641\n",
       "today           12063\n",
       "no              10298\n",
       "                ...  \n",
       "gubillier           1\n",
       "odium               1\n",
       "inclinations        1\n",
       "infectcd            1\n",
       "othrwise            1\n",
       "Length: 70407, dtype: int64"
      ]
     },
     "metadata": {},
     "execution_count": 14
    }
   ],
   "source": [
    "# count_words_by_year \n",
    "count_words_by_year(1920)"
   ]
  },
  {
   "cell_type": "code",
   "execution_count": 15,
   "metadata": {},
   "outputs": [
    {
     "output_type": "execute_result",
     "data": {
      "text/plain": [
       "0.09131404785434073"
      ]
     },
     "metadata": {},
     "execution_count": 15
    }
   ],
   "source": [
    "# document_frequency \n",
    "document_frequency(1920, 'yesterday')"
   ]
  },
  {
   "cell_type": "code",
   "execution_count": 9,
   "metadata": {},
   "outputs": [
    {
     "output_type": "execute_result",
     "data": {
      "text/plain": [
       "0.06955050459677178"
      ]
     },
     "metadata": {},
     "execution_count": 9
    }
   ],
   "source": [
    "document_frequency(1920, 'today')"
   ]
  },
  {
   "source": [
    "We see right away although yesterday and today do not differ much in total occurrence, they have huge difference in the proportion of appearance in each news report. "
   ],
   "cell_type": "markdown",
   "metadata": {}
  }
 ]
}